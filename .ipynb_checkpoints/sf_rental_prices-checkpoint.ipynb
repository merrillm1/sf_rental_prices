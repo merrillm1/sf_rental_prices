{
 "cells": [
  {
   "cell_type": "markdown",
   "metadata": {},
   "source": [
    "# Web Scraping Craigslist to Lower My Rent"
   ]
  },
  {
   "cell_type": "markdown",
   "metadata": {},
   "source": [
    "With the continuing drop in rent prices accross San Francisco, and with the financial strain that transitioning careers has left me with , I decided to put my Data Science skills to good use and ask for an evidence based proposal of lowering my rent. This notebook is adapted from Riley Predum's (also a Springboard Data Science grad) [blog post](https://towardsdatascience.com/web-scraping-craigslist-a-complete-tutorial-c41cea4f4981) about web scraping craigslist using beautiful soup and has been adapted to suit my needs. The end goal of this project is to create a streamlit app that anyone can use to gather information about how their rent compares to the current market."
   ]
  },
  {
   "cell_type": "markdown",
   "metadata": {},
   "source": [
    "My situation is this, I currently have a 2 bedroom, 2 bath in the Richmond district of the city (SF) and I'd like to make the case that the average price of comparable units are below what I pay (3500) , that comparable units in my specific neighborhood are also lower,  and that there are a multitude of avalable options below $3500 that are also avalable not restricted to the parameters of my current living situation. This may be wishful thinking, and it is, but the goal is to build a case using any one or number of these options to increase the chances of convincing him."
   ]
  },
  {
   "cell_type": "markdown",
   "metadata": {},
   "source": [
    "Let's get to it!"
   ]
  },
  {
   "cell_type": "code",
   "execution_count": 211,
   "metadata": {},
   "outputs": [],
   "source": [
    "# My specific link is set to only include apartments comparable to mine, 2bed/2bath w/parking\n",
    "link = 'https://sfbay.craigslist.org/search/sfc/apa?min_bedrooms=2&min_bathrooms=2&availabilityMode=0&parking=1&parking=2&parking=3&parking=4&sale_date=all+dates'"
   ]
  },
  {
   "cell_type": "code",
   "execution_count": 212,
   "metadata": {
    "scrolled": true
   },
   "outputs": [
    {
     "name": "stdout",
     "output_type": "stream",
     "text": [
      "<class 'bs4.element.ResultSet'>\n",
      "120\n"
     ]
    }
   ],
   "source": [
    "#import get to call a get request on the site\n",
    "from requests import get\n",
    "\n",
    "#get the first page of the east bay housing prices\n",
    "response = get(link)\n",
    "\n",
    "from bs4 import BeautifulSoup\n",
    "html_soup = BeautifulSoup(response.text, 'html.parser')\n",
    "\n",
    "#get the macro-container for the housing posts\n",
    "# Posts in the HTML code start with an easy indicator <li \"class_result_row\", there are 120 to a page\n",
    "posts = html_soup.find_all('li', class_= 'result-row')\n",
    "print(type(posts)) #to double check that I got a ResultSet\n",
    "print(len(posts)) #to double check I got 120 (elements/page)"
   ]
  },
  {
   "cell_type": "markdown",
   "metadata": {},
   "source": [
    "## Parsing an example post\n",
    "\n",
    "The goal at this point is to parse out the code extracted from each post. The key info being the neighborhood, number of bedrooms, the price, square feet, the link and post title. Below is an example of the first post from the link.\n",
    "\n",
    "The breakdown is necessary for each post to create our final dataframe. "
   ]
  },
  {
   "cell_type": "code",
   "execution_count": 117,
   "metadata": {},
   "outputs": [
    {
     "data": {
      "text/plain": [
       "<li class=\"result-row\" data-pid=\"7232553336\" data-repost-of=\"7221885643\">\n",
       "<a class=\"result-image gallery\" data-ids=\"3:00N0N_eATCfSHhe9_0An0of,3:01717_kNttY0QjkBe_0An0of,3:00U0U_HMdcZ2P8s7_0An0of,3:00O0O_3RYEEIWHFGr_0An0of,3:00K0K_3Q4Xw3xk7gT_0An0of,3:00000_8HvgtiDhhcv_0An0of,3:00v0v_kCKvj7BGGBh_0An0of,3:01212_h0H6TokaMz3_0An0of,3:00T0T_1eqs8A7K5kA_0Aj0oe,3:01515_kvj4CGhXL0l_0An0of,3:01515_5WIWbYUO3Fo_0Am0of,3:00H0H_ejK3YH101EJ_0An0of,3:00s0s_gH3MPhTmo4B_0Al0oe,3:00101_gTS6GH6Gjiq_0An0of,3:00r0r_boAl6Tk9diP_0An0of,3:00u0u_9rnoNWuUfO6_0An0of,3:00x0x_kKA34pXzpSx_0An0of,3:00G0G_6rBdhoMvtVV_0An0of,3:00D0D_4OUEEMiDpKY_0An0of,3:00D0D_8jq8kf3lVGY_0An0of,3:00606_2FK6DDvmZUU_0Am0of\" href=\"https://sfbay.craigslist.org/sfc/apa/d/san-francisco-bedroom-bath-garden-water/7232553336.html\">\n",
       "<span class=\"result-price\">$6,500</span>\n",
       "</a>\n",
       "<div class=\"result-info\">\n",
       "<span class=\"icon icon-star\" role=\"button\">\n",
       "<span class=\"screen-reader-text\">favorite this post</span>\n",
       "</span>\n",
       "<time class=\"result-date\" datetime=\"2020-12-01 11:45\" title=\"Tue 01 Dec 11:45:39 AM\">Dec  1</time>\n",
       "<h3 class=\"result-heading\">\n",
       "<a class=\"result-title hdrlnk\" data-id=\"7232553336\" href=\"https://sfbay.craigslist.org/sfc/apa/d/san-francisco-bedroom-bath-garden-water/7232553336.html\" id=\"postid_7232553336\">3 Bedroom 2 Bath | Garden &amp; Water View | Open Floor - 1065 Montgomery</a>\n",
       "</h3>\n",
       "<span class=\"result-meta\">\n",
       "<span class=\"result-price\">$6,500</span>\n",
       "<span class=\"housing\">\n",
       "                    3br -\n",
       "                </span>\n",
       "<span class=\"result-hood\"> (north beach / telegraph hill)</span>\n",
       "<span class=\"result-tags\">\n",
       "<span class=\"pictag\">pic</span>\n",
       "</span>\n",
       "<span class=\"banish icon icon-trash\" role=\"button\">\n",
       "<span class=\"screen-reader-text\">hide this posting</span>\n",
       "</span>\n",
       "<span aria-hidden=\"true\" class=\"unbanish icon icon-trash red\" role=\"button\"></span>\n",
       "<a class=\"restore-link\" href=\"#\">\n",
       "<span class=\"restore-narrow-text\">restore</span>\n",
       "<span class=\"restore-wide-text\">restore this posting</span>\n",
       "</a>\n",
       "</span>\n",
       "</div>\n",
       "</li>"
      ]
     },
     "execution_count": 117,
     "metadata": {},
     "output_type": "execute_result"
    }
   ],
   "source": [
    "#grab the first post\n",
    "post_one = posts[0]\n",
    "post_one"
   ]
  },
  {
   "cell_type": "code",
   "execution_count": 169,
   "metadata": {},
   "outputs": [
    {
     "data": {
      "text/plain": [
       "6500"
      ]
     },
     "execution_count": 169,
     "metadata": {},
     "output_type": "execute_result"
    }
   ],
   "source": [
    "#grab the price of the first post\n",
    "post_one_price = post_one.a.text\n",
    "\n",
    "# This will come in handy later when we append this to our dataframe, we want a stripped down price\n",
    "post_price = int(post_one_price.strip().replace(\"$\", \"\").replace(\",\", \"\"))\n",
    "post_price"
   ]
  },
  {
   "cell_type": "code",
   "execution_count": 170,
   "metadata": {},
   "outputs": [
    {
     "data": {
      "text/plain": [
       "'2020-12-01 11:45'"
      ]
     },
     "execution_count": 170,
     "metadata": {},
     "output_type": "execute_result"
    }
   ],
   "source": [
    "#grab the time of the post in datetime format to save on cleaning efforts\n",
    "post_one_time = post_one.find('time', class_= 'result-date')\n",
    "post_one_datetime = post_one_time['datetime']\n",
    "post_one_datetime"
   ]
  },
  {
   "cell_type": "code",
   "execution_count": 175,
   "metadata": {},
   "outputs": [
    {
     "name": "stdout",
     "output_type": "stream",
     "text": [
      "3 Bedroom 2 Bath | Garden & Water View | Open Floor - 1065 Montgomery\n",
      "https://sfbay.craigslist.org/sfc/apa/d/san-francisco-bedroom-bath-garden-water/7232553336.html\n"
     ]
    }
   ],
   "source": [
    "#title is a and that class, link is grabbing the href attribute of that variable\n",
    "post_one_title = post_one.find('a', class_='result-title hdrlnk')\n",
    "post_one_link = post_one_title['href']\n",
    "\n",
    "#easy to grab the post title by taking the text element of the title variable\n",
    "post_one_title_text = post_one_title.text\n",
    "print(post_one_title_text)\n",
    "print(post_one_link)"
   ]
  },
  {
   "cell_type": "code",
   "execution_count": 181,
   "metadata": {},
   "outputs": [],
   "source": [
    "#grabs the whole segment of housing details. We will need missing value handling in the loop as this kind of detail is not common in posts\n",
    "#the text can be split, and we can use indexing to grab the elements we want. number of bedrooms is the first element.\n",
    "#sqft is the third element\n",
    "\n",
    "post_one_num_bedrooms = post_one.find('span', class_ = 'housing').text.split()[0]\n",
    "\n",
    "post_one_sqft = post_one.find('span', class_ = 'housing').text.split()[1][:-3] #cleans the ft2 at the end"
   ]
  },
  {
   "cell_type": "code",
   "execution_count": 182,
   "metadata": {},
   "outputs": [
    {
     "name": "stdout",
     "output_type": "stream",
     "text": [
      "3br\n",
      "\n"
     ]
    }
   ],
   "source": [
    "print(post_one_num_bedrooms)\n",
    "print(post_one_sqft)"
   ]
  },
  {
   "cell_type": "code",
   "execution_count": 123,
   "metadata": {},
   "outputs": [],
   "source": [
    "#the neighborhood is grabbed by finding the span class 'result-hood' and pulling the text element from that\n",
    "post_one_hood = posts[0].find('span', class_='result-hood').text"
   ]
  },
  {
   "cell_type": "code",
   "execution_count": 183,
   "metadata": {},
   "outputs": [
    {
     "name": "stdout",
     "output_type": "stream",
     "text": [
      " (north beach / telegraph hill)\n"
     ]
    }
   ],
   "source": [
    "print(post_one_hood)"
   ]
  },
  {
   "cell_type": "markdown",
   "metadata": {},
   "source": [
    "## Building the loop\n",
    "\n",
    "Taking each of these steps together and "
   ]
  },
  {
   "cell_type": "code",
   "execution_count": 195,
   "metadata": {},
   "outputs": [
    {
     "name": "stdout",
     "output_type": "stream",
     "text": [
      "Page 1 scraped successfully!\n",
      "Page 2 scraped successfully!\n",
      "Page 3 scraped successfully!\n",
      "Page 4 scraped successfully!\n",
      "Page 5 scraped successfully!\n",
      "Page 6 scraped successfully!\n",
      "Page 7 scraped successfully!\n",
      "Page 8 scraped successfully!\n",
      "Page 9 scraped successfully!\n",
      "Page 10 scraped successfully!\n",
      "Page 11 scraped successfully!\n",
      "\n",
      "\n",
      "Scrape complete!\n"
     ]
    }
   ],
   "source": [
    "#build out the loop\n",
    "from time import sleep\n",
    "import re\n",
    "from random import randint #avoid throttling by not sending too many requests one after the other\n",
    "from warnings import warn\n",
    "from time import time\n",
    "from IPython.core.display import clear_output\n",
    "import numpy as np\n",
    "\n",
    "#find the total number of posts to find the limit of the pagination\n",
    "results_num = html_soup.find('div', class_= 'search-legend')\n",
    "\n",
    "#pulled the total count of posts as the upper bound of the pages array\n",
    "results_total = int(results_num.find('span', class_='totalcount').text)\n",
    "\n",
    "#each page has 119 posts so each new page is defined as follows: s=120, s=240, s=360, \n",
    "#and so on. So we need to step in size 120 in the np.arange function\n",
    "pages = np.arange(0, results_total+1, 120)\n",
    "\n",
    "#columns\n",
    "iterations = 0\n",
    "post_timing = []\n",
    "post_hoods = []\n",
    "post_title_texts = []\n",
    "bedroom_counts = []\n",
    "sqfts = []\n",
    "post_links = []\n",
    "post_prices = []\n",
    "\n",
    "for page in pages:\n",
    "\n",
    "    #get request\n",
    "    # for my situation I want any and all apartments that meet or exceed what I currently have\n",
    "    # This would be anything greater than a 2bed/2bath and with parking of any kind\n",
    "    response = get(\"https://sfbay.craigslist.org/search/sfc/apa?\" \n",
    "                   + \"s=\" #the parameter for defining the page number \n",
    "                   + str(page) #the page number in the pages array from earlier\n",
    "                   + \"&availabilityMode=0\"\n",
    "                   + \"&min_bathrooms=2\"\n",
    "                   + '&min_bedrooms=2'\n",
    "                   + '&parking=1'\n",
    "                   + '&parking=2'\n",
    "                   + '&parking=3'\n",
    "                   + '&parking=4'\n",
    "                   + '&sale_date=all+dates')\n",
    "\n",
    "    sleep(randint(1,5))\n",
    "     \n",
    "    #throw warning for status codes that are not 200\n",
    "    if response.status_code != 200:\n",
    "        warn('Request: {}; Status code: {}'.format(requests, response.status_code))\n",
    "        \n",
    "    #define the html text\n",
    "    page_html = BeautifulSoup(response.text, 'html.parser')\n",
    "    \n",
    "    #define the posts\n",
    "    posts = html_soup.find_all('li', class_= 'result-row')\n",
    "        \n",
    "    #extract data item-wise\n",
    "    for post in posts:\n",
    "\n",
    "        if post.find('span', class_ = 'result-hood') is not None:\n",
    "\n",
    "            #posting date\n",
    "            #grab the datetime element 0 for date and 1 for time\n",
    "            post_datetime = post.find('time', class_= 'result-date')['datetime']\n",
    "            post_timing.append(post_datetime)\n",
    "\n",
    "            #neighborhoods\n",
    "            post_hood = post.find('span', class_= 'result-hood').text\n",
    "            post_hoods.append(post_hood)\n",
    "\n",
    "            #title text\n",
    "            post_title = post.find('a', class_='result-title hdrlnk')\n",
    "            post_title_text = post_title.text\n",
    "            post_title_texts.append(post_title_text)\n",
    "\n",
    "            #post link\n",
    "            post_link = post_title['href']\n",
    "            post_links.append(post_link)\n",
    "            \n",
    "            #removes the \\n whitespace from each side, removes the currency symbol, and turns it into an int\n",
    "            #if there is no post price, enter nan value\n",
    "            for price in post:\n",
    "                if not post.a.text.strip():\n",
    "                    post_price = np.nan\n",
    "                else:\n",
    "                    post_price = int(post.a.text.strip().replace(\"$\", \"\").replace(\",\", \"\"))\n",
    "            post_prices.append(post_price)\n",
    "            \n",
    "            if post.find('span', class_ = 'housing') is not None:\n",
    "                \n",
    "                #if the first element is accidentally square footage\n",
    "                if 'ft2' in post.find('span', class_ = 'housing').text.split()[0]:\n",
    "                    \n",
    "                    #make bedroom nan\n",
    "                    bedroom_count = np.nan\n",
    "                    bedroom_counts.append(bedroom_count)\n",
    "                    \n",
    "                    #make sqft the first element\n",
    "                    sqft = int(post.find('span', class_ = 'housing').text.split()[0][:-3])\n",
    "                    sqfts.append(sqft)\n",
    "                    \n",
    "                #if the length of the housing details element is more than 2\n",
    "                elif len(post.find('span', class_ = 'housing').text.split()) > 2:\n",
    "                    \n",
    "                    #therefore element 0 will be bedroom count\n",
    "                    bedroom_count = post.find('span', class_ = 'housing').text.replace(\"br\", \"\").split()[0]\n",
    "                    bedroom_counts.append(bedroom_count)\n",
    "                    \n",
    "                    #and sqft will be number 3, so set these here and append\n",
    "                    sqft = int(post.find('span', class_ = 'housing').text.split()[2][:-3])\n",
    "                    sqfts.append(sqft)\n",
    "                    \n",
    "                #if there is num bedrooms but no sqft\n",
    "                elif len(post.find('span', class_ = 'housing').text.split()) == 2:\n",
    "                    \n",
    "                    #therefore element 0 will be bedroom count\n",
    "                    bedroom_count = post.find('span', class_ = 'housing').text.replace(\"br\", \"\").split()[0]\n",
    "                    bedroom_counts.append(bedroom_count)\n",
    "                    \n",
    "                    #and sqft will be number 3, so set these here and append\n",
    "                    sqft = np.nan\n",
    "                    sqfts.append(sqft)                    \n",
    "                \n",
    "                else:\n",
    "                    bedroom_count = np.nan\n",
    "                    bedroom_counts.append(bedroom_count)\n",
    "                \n",
    "                    sqft = np.nan\n",
    "                    sqfts.append(sqft)\n",
    "                \n",
    "            #if none of those conditions catch, make bedroom nan, this won't be needed    \n",
    "            else:\n",
    "                bedroom_count = np.nan\n",
    "                bedroom_counts.append(bedroom_count)\n",
    "                \n",
    "                sqft = np.nan\n",
    "                sqfts.append(sqft)\n",
    "            #    bedroom_counts.append(bedroom_count)\n",
    "                \n",
    "            #    sqft = np.nan\n",
    "            #    sqfts.append(sqft)\n",
    "                \n",
    "    iterations += 1\n",
    "    print(\"Page \" + str(iterations) + \" scraped successfully!\")\n",
    "\n",
    "print(\"\\n\")\n",
    "\n",
    "print(\"Scrape complete!\")"
   ]
  },
  {
   "cell_type": "code",
   "execution_count": 196,
   "metadata": {
    "scrolled": false
   },
   "outputs": [
    {
     "name": "stdout",
     "output_type": "stream",
     "text": [
      "<class 'pandas.core.frame.DataFrame'>\n",
      "RangeIndex: 1287 entries, 0 to 1286\n",
      "Data columns (total 7 columns):\n",
      "posted             1287 non-null object\n",
      "neighborhood       1287 non-null object\n",
      "post title         1287 non-null object\n",
      "number bedrooms    1287 non-null object\n",
      "sqft               737 non-null float64\n",
      "URL                1287 non-null object\n",
      "price              1221 non-null float64\n",
      "dtypes: float64(2), object(5)\n",
      "memory usage: 70.5+ KB\n",
      "None\n"
     ]
    },
    {
     "data": {
      "text/html": [
       "<div>\n",
       "<style scoped>\n",
       "    .dataframe tbody tr th:only-of-type {\n",
       "        vertical-align: middle;\n",
       "    }\n",
       "\n",
       "    .dataframe tbody tr th {\n",
       "        vertical-align: top;\n",
       "    }\n",
       "\n",
       "    .dataframe thead th {\n",
       "        text-align: right;\n",
       "    }\n",
       "</style>\n",
       "<table border=\"1\" class=\"dataframe\">\n",
       "  <thead>\n",
       "    <tr style=\"text-align: right;\">\n",
       "      <th></th>\n",
       "      <th>posted</th>\n",
       "      <th>neighborhood</th>\n",
       "      <th>post title</th>\n",
       "      <th>number bedrooms</th>\n",
       "      <th>sqft</th>\n",
       "      <th>URL</th>\n",
       "      <th>price</th>\n",
       "    </tr>\n",
       "  </thead>\n",
       "  <tbody>\n",
       "    <tr>\n",
       "      <td>0</td>\n",
       "      <td>2020-12-01 11:45</td>\n",
       "      <td>(north beach / telegraph hill)</td>\n",
       "      <td>3 Bedroom 2 Bath | Garden &amp; Water View | Open ...</td>\n",
       "      <td>3</td>\n",
       "      <td>NaN</td>\n",
       "      <td>https://sfbay.craigslist.org/sfc/apa/d/san-fra...</td>\n",
       "      <td>6500.0</td>\n",
       "    </tr>\n",
       "    <tr>\n",
       "      <td>1</td>\n",
       "      <td>2020-12-01 11:43</td>\n",
       "      <td>(SOMA / south beach)</td>\n",
       "      <td>**8-Weeks Free! Brand New 2-Bedroom / 2-Bath i...</td>\n",
       "      <td>2</td>\n",
       "      <td>922.0</td>\n",
       "      <td>https://sfbay.craigslist.org/sfc/apa/d/san-fra...</td>\n",
       "      <td>3291.0</td>\n",
       "    </tr>\n",
       "    <tr>\n",
       "      <td>2</td>\n",
       "      <td>2020-12-01 11:39</td>\n",
       "      <td>(bayview)</td>\n",
       "      <td>Discover Lovely Apartment Living w/ Waterbend!...</td>\n",
       "      <td>2</td>\n",
       "      <td>981.0</td>\n",
       "      <td>https://sfbay.craigslist.org/sfc/apa/d/san-fra...</td>\n",
       "      <td>3010.0</td>\n",
       "    </tr>\n",
       "    <tr>\n",
       "      <td>3</td>\n",
       "      <td>2020-12-01 11:38</td>\n",
       "      <td>(richmond / seacliff)</td>\n",
       "      <td>2Ba Beautiful &amp; Bright Newly Renovated Apartment</td>\n",
       "      <td>2</td>\n",
       "      <td>NaN</td>\n",
       "      <td>https://sfbay.craigslist.org/sfc/apa/d/san-fra...</td>\n",
       "      <td>3500.0</td>\n",
       "    </tr>\n",
       "    <tr>\n",
       "      <td>4</td>\n",
       "      <td>2020-12-01 11:37</td>\n",
       "      <td>(russian hill)</td>\n",
       "      <td>&gt;Charming unfurnished 2x2.5 Apartment Home wit...</td>\n",
       "      <td>2</td>\n",
       "      <td>NaN</td>\n",
       "      <td>https://sfbay.craigslist.org/sfc/apa/d/san-fra...</td>\n",
       "      <td>6999.0</td>\n",
       "    </tr>\n",
       "    <tr>\n",
       "      <td>5</td>\n",
       "      <td>2020-12-01 11:34</td>\n",
       "      <td>(potrero hill)</td>\n",
       "      <td>SPACIOUS Potrero Hill Loft*Tri-Level *3 Br/2.5...</td>\n",
       "      <td>3</td>\n",
       "      <td>NaN</td>\n",
       "      <td>https://sfbay.craigslist.org/sfc/apa/d/san-fra...</td>\n",
       "      <td>3595.0</td>\n",
       "    </tr>\n",
       "    <tr>\n",
       "      <td>6</td>\n",
       "      <td>2020-12-01 11:33</td>\n",
       "      <td>(downtown / civic / van ness)</td>\n",
       "      <td>🎈100VanNess🎈 Your Home Is Waiting|In-Person, S...</td>\n",
       "      <td>2</td>\n",
       "      <td>NaN</td>\n",
       "      <td>https://sfbay.craigslist.org/sfc/apa/d/san-fra...</td>\n",
       "      <td>3600.0</td>\n",
       "    </tr>\n",
       "    <tr>\n",
       "      <td>7</td>\n",
       "      <td>2020-12-01 11:29</td>\n",
       "      <td>(richmond / seacliff)</td>\n",
       "      <td>Spacious 3 Bed &amp; 2 Bath By Golden Gate Park &amp; ...</td>\n",
       "      <td>3</td>\n",
       "      <td>NaN</td>\n",
       "      <td>https://sfbay.craigslist.org/sfc/apa/d/san-fra...</td>\n",
       "      <td>4999.0</td>\n",
       "    </tr>\n",
       "    <tr>\n",
       "      <td>8</td>\n",
       "      <td>2020-12-01 11:28</td>\n",
       "      <td>(downtown / civic / van ness)</td>\n",
       "      <td>Elegant CITY PAD ON SPECIAL *150VanNess* 🎉</td>\n",
       "      <td>2</td>\n",
       "      <td>NaN</td>\n",
       "      <td>https://sfbay.craigslist.org/sfc/apa/d/san-fra...</td>\n",
       "      <td>3092.0</td>\n",
       "    </tr>\n",
       "    <tr>\n",
       "      <td>9</td>\n",
       "      <td>2020-12-01 11:23</td>\n",
       "      <td>(potrero hill)</td>\n",
       "      <td>LOVELY TRI-LEVEL LOFT * 3 BR / 2.5 BA *Fp *Bal...</td>\n",
       "      <td>3</td>\n",
       "      <td>NaN</td>\n",
       "      <td>https://sfbay.craigslist.org/sfc/apa/d/san-fra...</td>\n",
       "      <td>3695.0</td>\n",
       "    </tr>\n",
       "  </tbody>\n",
       "</table>\n",
       "</div>"
      ],
      "text/plain": [
       "             posted                     neighborhood  \\\n",
       "0  2020-12-01 11:45   (north beach / telegraph hill)   \n",
       "1  2020-12-01 11:43             (SOMA / south beach)   \n",
       "2  2020-12-01 11:39                        (bayview)   \n",
       "3  2020-12-01 11:38            (richmond / seacliff)   \n",
       "4  2020-12-01 11:37                   (russian hill)   \n",
       "5  2020-12-01 11:34                   (potrero hill)   \n",
       "6  2020-12-01 11:33    (downtown / civic / van ness)   \n",
       "7  2020-12-01 11:29            (richmond / seacliff)   \n",
       "8  2020-12-01 11:28    (downtown / civic / van ness)   \n",
       "9  2020-12-01 11:23                   (potrero hill)   \n",
       "\n",
       "                                          post title number bedrooms   sqft  \\\n",
       "0  3 Bedroom 2 Bath | Garden & Water View | Open ...               3    NaN   \n",
       "1  **8-Weeks Free! Brand New 2-Bedroom / 2-Bath i...               2  922.0   \n",
       "2  Discover Lovely Apartment Living w/ Waterbend!...               2  981.0   \n",
       "3   2Ba Beautiful & Bright Newly Renovated Apartment               2    NaN   \n",
       "4  >Charming unfurnished 2x2.5 Apartment Home wit...               2    NaN   \n",
       "5  SPACIOUS Potrero Hill Loft*Tri-Level *3 Br/2.5...               3    NaN   \n",
       "6  🎈100VanNess🎈 Your Home Is Waiting|In-Person, S...               2    NaN   \n",
       "7  Spacious 3 Bed & 2 Bath By Golden Gate Park & ...               3    NaN   \n",
       "8         Elegant CITY PAD ON SPECIAL *150VanNess* 🎉               2    NaN   \n",
       "9  LOVELY TRI-LEVEL LOFT * 3 BR / 2.5 BA *Fp *Bal...               3    NaN   \n",
       "\n",
       "                                                 URL   price  \n",
       "0  https://sfbay.craigslist.org/sfc/apa/d/san-fra...  6500.0  \n",
       "1  https://sfbay.craigslist.org/sfc/apa/d/san-fra...  3291.0  \n",
       "2  https://sfbay.craigslist.org/sfc/apa/d/san-fra...  3010.0  \n",
       "3  https://sfbay.craigslist.org/sfc/apa/d/san-fra...  3500.0  \n",
       "4  https://sfbay.craigslist.org/sfc/apa/d/san-fra...  6999.0  \n",
       "5  https://sfbay.craigslist.org/sfc/apa/d/san-fra...  3595.0  \n",
       "6  https://sfbay.craigslist.org/sfc/apa/d/san-fra...  3600.0  \n",
       "7  https://sfbay.craigslist.org/sfc/apa/d/san-fra...  4999.0  \n",
       "8  https://sfbay.craigslist.org/sfc/apa/d/san-fra...  3092.0  \n",
       "9  https://sfbay.craigslist.org/sfc/apa/d/san-fra...  3695.0  "
      ]
     },
     "execution_count": 196,
     "metadata": {},
     "output_type": "execute_result"
    }
   ],
   "source": [
    "import pandas as pd\n",
    "\n",
    "sf_2bdr_apts = pd.DataFrame({'posted': post_timing,\n",
    "                       'neighborhood': post_hoods,\n",
    "                       'post title': post_title_texts,\n",
    "                       'number bedrooms': bedroom_counts,\n",
    "                        'sqft': sqfts,\n",
    "                        'URL': post_links,\n",
    "                       'price': post_prices})\n",
    "print(sf_2bdr_apts.info())\n",
    "sf_2bdr_apts.head(10)"
   ]
  },
  {
   "cell_type": "code",
   "execution_count": 197,
   "metadata": {},
   "outputs": [],
   "source": [
    "#first things first, drop duplicate URLs because people are spammy on Craigslist. \n",
    "#Let's see how many uniqe posts we really have.\n",
    "sf_2bdr_apts = sf_2bdr_apts.drop_duplicates(subset='URL')\n",
    "len(sf_2bdr_apts.drop_duplicates(subset='URL'))\n",
    "\n",
    "#make the number bedrooms to a float (since np.nan is a float too)\n",
    "sf_2bdr_apts['number bedrooms'] = sf_2bdr_apts['number bedrooms'].apply(lambda x: float(x))\n",
    "\n",
    "#convert datetime string into datetime object to be able to work with it\n",
    "from datetime import datetime\n",
    "\n",
    "sf_2bdr_apts['posted'] = pd.to_datetime(sf_2bdr_apts['posted'])\n",
    "\n",
    "#Looking at what neighborhoods there are with eb_apts['neighborhood'].unique() allowed me to see what\n",
    "#I needed to deal with in terms of cleaning those.\n",
    "\n",
    "#remove the parenthesis from the left and right of the neighborhoods\n",
    "sf_2bdr_apts['neighborhood'] = sf_2bdr_apts['neighborhood'].map(lambda x: x.lstrip('(').rstrip(')'))\n",
    "\n",
    "#titlecase them\n",
    "sf_2bdr_apts['neighborhood'] = sf_2bdr_apts['neighborhood'].str.title()\n",
    "\n",
    "#just take the first name of the neighborhood list, splitting on the '/' delimiter\n",
    "sf_2bdr_apts['neighborhood'] = sf_2bdr_apts['neighborhood'].apply(lambda x: x.split('/')[0])\n",
    "\n",
    "#fix one-offs that\n",
    "#sf_2bdr_apts['neighborhood'].replace('Belmont, Ca', 'Belmont', inplace=True)\n",
    "#sf_2bdr_apts['neighborhood'].replace('Hercules, Pinole, San Pablo, El Sob', 'Hercules', inplace=True)\n",
    "\n",
    "#remove whitespaces\n",
    "#sf_2bdr_apts['neighborhood'] = sf_2bdr_apts['neighborhood'].apply(lambda x: x.strip())"
   ]
  },
  {
   "cell_type": "code",
   "execution_count": 198,
   "metadata": {},
   "outputs": [],
   "source": [
    "sf_2bdr_apts['neighborhood'] = sf_2bdr_apts['neighborhood'].map(lambda x: x.replace('(', ''))"
   ]
  },
  {
   "cell_type": "code",
   "execution_count": 199,
   "metadata": {
    "scrolled": false
   },
   "outputs": [
    {
     "name": "stdout",
     "output_type": "stream",
     "text": [
      "<class 'pandas.core.frame.DataFrame'>\n",
      "Int64Index: 117 entries, 0 to 116\n",
      "Data columns (total 7 columns):\n",
      "posted             117 non-null datetime64[ns]\n",
      "neighborhood       117 non-null object\n",
      "post title         117 non-null object\n",
      "number bedrooms    117 non-null float64\n",
      "sqft               67 non-null float64\n",
      "URL                117 non-null object\n",
      "price              111 non-null float64\n",
      "dtypes: datetime64[ns](1), float64(3), object(3)\n",
      "memory usage: 7.3+ KB\n",
      "None\n"
     ]
    },
    {
     "data": {
      "text/html": [
       "<div>\n",
       "<style scoped>\n",
       "    .dataframe tbody tr th:only-of-type {\n",
       "        vertical-align: middle;\n",
       "    }\n",
       "\n",
       "    .dataframe tbody tr th {\n",
       "        vertical-align: top;\n",
       "    }\n",
       "\n",
       "    .dataframe thead th {\n",
       "        text-align: right;\n",
       "    }\n",
       "</style>\n",
       "<table border=\"1\" class=\"dataframe\">\n",
       "  <thead>\n",
       "    <tr style=\"text-align: right;\">\n",
       "      <th></th>\n",
       "      <th>posted</th>\n",
       "      <th>neighborhood</th>\n",
       "      <th>post title</th>\n",
       "      <th>number bedrooms</th>\n",
       "      <th>sqft</th>\n",
       "      <th>URL</th>\n",
       "      <th>price</th>\n",
       "    </tr>\n",
       "  </thead>\n",
       "  <tbody>\n",
       "    <tr>\n",
       "      <td>0</td>\n",
       "      <td>2020-12-01 11:45:00</td>\n",
       "      <td>North Beach</td>\n",
       "      <td>3 Bedroom 2 Bath | Garden &amp; Water View | Open ...</td>\n",
       "      <td>3.0</td>\n",
       "      <td>NaN</td>\n",
       "      <td>https://sfbay.craigslist.org/sfc/apa/d/san-fra...</td>\n",
       "      <td>6500.0</td>\n",
       "    </tr>\n",
       "    <tr>\n",
       "      <td>1</td>\n",
       "      <td>2020-12-01 11:43:00</td>\n",
       "      <td>Soma</td>\n",
       "      <td>**8-Weeks Free! Brand New 2-Bedroom / 2-Bath i...</td>\n",
       "      <td>2.0</td>\n",
       "      <td>922.0</td>\n",
       "      <td>https://sfbay.craigslist.org/sfc/apa/d/san-fra...</td>\n",
       "      <td>3291.0</td>\n",
       "    </tr>\n",
       "    <tr>\n",
       "      <td>2</td>\n",
       "      <td>2020-12-01 11:39:00</td>\n",
       "      <td>Bayview</td>\n",
       "      <td>Discover Lovely Apartment Living w/ Waterbend!...</td>\n",
       "      <td>2.0</td>\n",
       "      <td>981.0</td>\n",
       "      <td>https://sfbay.craigslist.org/sfc/apa/d/san-fra...</td>\n",
       "      <td>3010.0</td>\n",
       "    </tr>\n",
       "    <tr>\n",
       "      <td>3</td>\n",
       "      <td>2020-12-01 11:38:00</td>\n",
       "      <td>Richmond</td>\n",
       "      <td>2Ba Beautiful &amp; Bright Newly Renovated Apartment</td>\n",
       "      <td>2.0</td>\n",
       "      <td>NaN</td>\n",
       "      <td>https://sfbay.craigslist.org/sfc/apa/d/san-fra...</td>\n",
       "      <td>3500.0</td>\n",
       "    </tr>\n",
       "    <tr>\n",
       "      <td>4</td>\n",
       "      <td>2020-12-01 11:37:00</td>\n",
       "      <td>Russian Hill</td>\n",
       "      <td>&gt;Charming unfurnished 2x2.5 Apartment Home wit...</td>\n",
       "      <td>2.0</td>\n",
       "      <td>NaN</td>\n",
       "      <td>https://sfbay.craigslist.org/sfc/apa/d/san-fra...</td>\n",
       "      <td>6999.0</td>\n",
       "    </tr>\n",
       "    <tr>\n",
       "      <td>5</td>\n",
       "      <td>2020-12-01 11:34:00</td>\n",
       "      <td>Potrero Hill</td>\n",
       "      <td>SPACIOUS Potrero Hill Loft*Tri-Level *3 Br/2.5...</td>\n",
       "      <td>3.0</td>\n",
       "      <td>NaN</td>\n",
       "      <td>https://sfbay.craigslist.org/sfc/apa/d/san-fra...</td>\n",
       "      <td>3595.0</td>\n",
       "    </tr>\n",
       "    <tr>\n",
       "      <td>6</td>\n",
       "      <td>2020-12-01 11:33:00</td>\n",
       "      <td>Downtown</td>\n",
       "      <td>🎈100VanNess🎈 Your Home Is Waiting|In-Person, S...</td>\n",
       "      <td>2.0</td>\n",
       "      <td>NaN</td>\n",
       "      <td>https://sfbay.craigslist.org/sfc/apa/d/san-fra...</td>\n",
       "      <td>3600.0</td>\n",
       "    </tr>\n",
       "    <tr>\n",
       "      <td>7</td>\n",
       "      <td>2020-12-01 11:29:00</td>\n",
       "      <td>Richmond</td>\n",
       "      <td>Spacious 3 Bed &amp; 2 Bath By Golden Gate Park &amp; ...</td>\n",
       "      <td>3.0</td>\n",
       "      <td>NaN</td>\n",
       "      <td>https://sfbay.craigslist.org/sfc/apa/d/san-fra...</td>\n",
       "      <td>4999.0</td>\n",
       "    </tr>\n",
       "    <tr>\n",
       "      <td>8</td>\n",
       "      <td>2020-12-01 11:28:00</td>\n",
       "      <td>Downtown</td>\n",
       "      <td>Elegant CITY PAD ON SPECIAL *150VanNess* 🎉</td>\n",
       "      <td>2.0</td>\n",
       "      <td>NaN</td>\n",
       "      <td>https://sfbay.craigslist.org/sfc/apa/d/san-fra...</td>\n",
       "      <td>3092.0</td>\n",
       "    </tr>\n",
       "    <tr>\n",
       "      <td>9</td>\n",
       "      <td>2020-12-01 11:23:00</td>\n",
       "      <td>Potrero Hill</td>\n",
       "      <td>LOVELY TRI-LEVEL LOFT * 3 BR / 2.5 BA *Fp *Bal...</td>\n",
       "      <td>3.0</td>\n",
       "      <td>NaN</td>\n",
       "      <td>https://sfbay.craigslist.org/sfc/apa/d/san-fra...</td>\n",
       "      <td>3695.0</td>\n",
       "    </tr>\n",
       "  </tbody>\n",
       "</table>\n",
       "</div>"
      ],
      "text/plain": [
       "               posted   neighborhood  \\\n",
       "0 2020-12-01 11:45:00   North Beach    \n",
       "1 2020-12-01 11:43:00          Soma    \n",
       "2 2020-12-01 11:39:00        Bayview   \n",
       "3 2020-12-01 11:38:00      Richmond    \n",
       "4 2020-12-01 11:37:00   Russian Hill   \n",
       "5 2020-12-01 11:34:00   Potrero Hill   \n",
       "6 2020-12-01 11:33:00      Downtown    \n",
       "7 2020-12-01 11:29:00      Richmond    \n",
       "8 2020-12-01 11:28:00      Downtown    \n",
       "9 2020-12-01 11:23:00   Potrero Hill   \n",
       "\n",
       "                                          post title  number bedrooms   sqft  \\\n",
       "0  3 Bedroom 2 Bath | Garden & Water View | Open ...              3.0    NaN   \n",
       "1  **8-Weeks Free! Brand New 2-Bedroom / 2-Bath i...              2.0  922.0   \n",
       "2  Discover Lovely Apartment Living w/ Waterbend!...              2.0  981.0   \n",
       "3   2Ba Beautiful & Bright Newly Renovated Apartment              2.0    NaN   \n",
       "4  >Charming unfurnished 2x2.5 Apartment Home wit...              2.0    NaN   \n",
       "5  SPACIOUS Potrero Hill Loft*Tri-Level *3 Br/2.5...              3.0    NaN   \n",
       "6  🎈100VanNess🎈 Your Home Is Waiting|In-Person, S...              2.0    NaN   \n",
       "7  Spacious 3 Bed & 2 Bath By Golden Gate Park & ...              3.0    NaN   \n",
       "8         Elegant CITY PAD ON SPECIAL *150VanNess* 🎉              2.0    NaN   \n",
       "9  LOVELY TRI-LEVEL LOFT * 3 BR / 2.5 BA *Fp *Bal...              3.0    NaN   \n",
       "\n",
       "                                                 URL   price  \n",
       "0  https://sfbay.craigslist.org/sfc/apa/d/san-fra...  6500.0  \n",
       "1  https://sfbay.craigslist.org/sfc/apa/d/san-fra...  3291.0  \n",
       "2  https://sfbay.craigslist.org/sfc/apa/d/san-fra...  3010.0  \n",
       "3  https://sfbay.craigslist.org/sfc/apa/d/san-fra...  3500.0  \n",
       "4  https://sfbay.craigslist.org/sfc/apa/d/san-fra...  6999.0  \n",
       "5  https://sfbay.craigslist.org/sfc/apa/d/san-fra...  3595.0  \n",
       "6  https://sfbay.craigslist.org/sfc/apa/d/san-fra...  3600.0  \n",
       "7  https://sfbay.craigslist.org/sfc/apa/d/san-fra...  4999.0  \n",
       "8  https://sfbay.craigslist.org/sfc/apa/d/san-fra...  3092.0  \n",
       "9  https://sfbay.craigslist.org/sfc/apa/d/san-fra...  3695.0  "
      ]
     },
     "execution_count": 199,
     "metadata": {},
     "output_type": "execute_result"
    }
   ],
   "source": [
    "print(sf_2bdr_apts.info())\n",
    "sf_2bdr_apts.head(10)"
   ]
  },
  {
   "cell_type": "code",
   "execution_count": 218,
   "metadata": {},
   "outputs": [
    {
     "name": "stdout",
     "output_type": "stream",
     "text": [
      "https://sfbay.craigslist.org/sfc/apa/d/san-francisco-large-bedroom-with-full/7239990098.html\n",
      "https://sfbay.craigslist.org/sfc/apa/d/san-francisco-channel-park-views-right/7239939793.html\n",
      "https://sfbay.craigslist.org/sfc/apa/d/san-francisco-live-the-mission-bay/7239921159.html\n",
      "https://sfbay.craigslist.org/sfc/apa/d/san-francisco-live-the-mission-bay/7239908539.html\n",
      "https://sfbay.craigslist.org/sfc/apa/d/san-francisco-2ba-beautiful-lg-rear/7233633144.html\n",
      "https://sfbay.craigslist.org/sfc/apa/d/san-francisco-th-ave-freshly-painted-2/7234018955.html\n"
     ]
    }
   ],
   "source": [
    "# let's get the URL's for the missing prices and inspect\n",
    "for url in  range(len(sf_2bdr_apts[sf_2bdr_apts['price'].isnull()]['URL'])):\n",
    "    print(sf_2bdr_apts[sf_2bdr_apts['price'].isnull()]['URL'].iloc[url])"
   ]
  },
  {
   "cell_type": "code",
   "execution_count": 224,
   "metadata": {},
   "outputs": [],
   "source": [
    "# I couldn't quite parse out the prices without visiting the sites, this will have to work for now\n",
    "# the prices, in order are in the list below, let's use this to replace the missing prices.\n",
    "prices = np.array([3500, 3660, 3793, 3896, 3950, 3600])\n",
    "\n",
    "for row, entry in zip(sf_2bdr_apts.loc[sf_2bdr_apts['price'].isnull(), 'price'].index, prices):\n",
    "    sf_2bdr_apts.at[row, 'price'] = entry"
   ]
  },
  {
   "cell_type": "code",
   "execution_count": 225,
   "metadata": {},
   "outputs": [
    {
     "name": "stdout",
     "output_type": "stream",
     "text": [
      "<class 'pandas.core.frame.DataFrame'>\n",
      "Int64Index: 117 entries, 0 to 116\n",
      "Data columns (total 7 columns):\n",
      "posted             117 non-null datetime64[ns]\n",
      "neighborhood       117 non-null object\n",
      "post title         117 non-null object\n",
      "number bedrooms    117 non-null float64\n",
      "sqft               67 non-null float64\n",
      "URL                117 non-null object\n",
      "price              117 non-null float64\n",
      "dtypes: datetime64[ns](1), float64(3), object(3)\n",
      "memory usage: 12.3+ KB\n",
      "None\n"
     ]
    }
   ],
   "source": [
    "print(sf_2bdr_apts.info())"
   ]
  },
  {
   "cell_type": "code",
   "execution_count": 226,
   "metadata": {},
   "outputs": [
    {
     "data": {
      "text/plain": [
       "array([' North Beach ', ' Soma ', ' Bayview', ' Richmond ',\n",
       "       ' Russian Hill', ' Potrero Hill', ' Downtown ', ' Alamo Square ',\n",
       "       ' Pacific Heights', ' Inner Sunset ', ' Cole Valley ',\n",
       "       ' Ingleside ', ' Castro ', ' Hayes Valley', ' Panhandle',\n",
       "       ' Nob Hill', ' Lower Pac Hts', ' Bernal Heights', ' Noe Valley',\n",
       "       ' Mission District', ' Glen Park', ' Inner Richmond', ' Usf ',\n",
       "       ' Sunset ', ' West Portal ', ' Lower Haight', ' San Lorenzo, Ca',\n",
       "       ' Marina ', ' Portola District', ' Fair Oaks'], dtype=object)"
      ]
     },
     "execution_count": 226,
     "metadata": {},
     "output_type": "execute_result"
    }
   ],
   "source": [
    "sf_2bdr_apts.neighborhood.unique()"
   ]
  },
  {
   "cell_type": "code",
   "execution_count": 228,
   "metadata": {},
   "outputs": [
    {
     "data": {
      "text/html": [
       "<div>\n",
       "<style scoped>\n",
       "    .dataframe tbody tr th:only-of-type {\n",
       "        vertical-align: middle;\n",
       "    }\n",
       "\n",
       "    .dataframe tbody tr th {\n",
       "        vertical-align: top;\n",
       "    }\n",
       "\n",
       "    .dataframe thead th {\n",
       "        text-align: right;\n",
       "    }\n",
       "</style>\n",
       "<table border=\"1\" class=\"dataframe\">\n",
       "  <thead>\n",
       "    <tr style=\"text-align: right;\">\n",
       "      <th></th>\n",
       "      <th>posted</th>\n",
       "      <th>neighborhood</th>\n",
       "      <th>post title</th>\n",
       "      <th>number bedrooms</th>\n",
       "      <th>sqft</th>\n",
       "      <th>URL</th>\n",
       "      <th>price</th>\n",
       "    </tr>\n",
       "  </thead>\n",
       "  <tbody>\n",
       "    <tr>\n",
       "      <td>94</td>\n",
       "      <td>2020-12-01 07:45:00</td>\n",
       "      <td>San Lorenzo, Ca</td>\n",
       "      <td>Mostly furnished home. One queen size bed in m...</td>\n",
       "      <td>3.0</td>\n",
       "      <td>1164.0</td>\n",
       "      <td>https://sfbay.craigslist.org/sfc/apa/d/san-lea...</td>\n",
       "      <td>1400.0</td>\n",
       "    </tr>\n",
       "    <tr>\n",
       "      <td>111</td>\n",
       "      <td>2020-12-01 00:17:00</td>\n",
       "      <td>Fair Oaks</td>\n",
       "      <td>****Sac Area***-3bed 2.5 Bath 1600s.f Townhouse</td>\n",
       "      <td>3.0</td>\n",
       "      <td>1600.0</td>\n",
       "      <td>https://sfbay.craigslist.org/sfc/apa/d/fair-oa...</td>\n",
       "      <td>2250.0</td>\n",
       "    </tr>\n",
       "  </tbody>\n",
       "</table>\n",
       "</div>"
      ],
      "text/plain": [
       "                 posted      neighborhood  \\\n",
       "94  2020-12-01 07:45:00   San Lorenzo, Ca   \n",
       "111 2020-12-01 00:17:00         Fair Oaks   \n",
       "\n",
       "                                            post title  number bedrooms  \\\n",
       "94   Mostly furnished home. One queen size bed in m...              3.0   \n",
       "111    ****Sac Area***-3bed 2.5 Bath 1600s.f Townhouse              3.0   \n",
       "\n",
       "       sqft                                                URL   price  \n",
       "94   1164.0  https://sfbay.craigslist.org/sfc/apa/d/san-lea...  1400.0  \n",
       "111  1600.0  https://sfbay.craigslist.org/sfc/apa/d/fair-oa...  2250.0  "
      ]
     },
     "execution_count": 228,
     "metadata": {},
     "output_type": "execute_result"
    }
   ],
   "source": [
    "sf_2bdr_apts[(sf_2bdr_apts['neighborhood'] == ' San Lorenzo, Ca') | \n",
    "             (sf_2bdr_apts['neighborhood'] == ' Fair Oaks')]"
   ]
  },
  {
   "cell_type": "code",
   "execution_count": 229,
   "metadata": {},
   "outputs": [],
   "source": [
    "# let's call it what it is here\n",
    "sf_2bdr_apts['neighborhood'] = sf_2bdr_apts['neighborhood'].replace([' Downtown '], ' Soma')"
   ]
  },
  {
   "cell_type": "code",
   "execution_count": 230,
   "metadata": {},
   "outputs": [],
   "source": [
    "# drop non-sf locations\n",
    "sf_2bdr_apts = sf_2bdr_apts.drop(index=[94, 111]).reset_index(drop=True)"
   ]
  },
  {
   "cell_type": "code",
   "execution_count": 231,
   "metadata": {},
   "outputs": [],
   "source": [
    "# save to a df for later use\n",
    "sf_2bdr_apts.to_csv('sf_apts_12_1', index = 0)"
   ]
  },
  {
   "cell_type": "markdown",
   "metadata": {},
   "source": [
    "## Quick Analysis"
   ]
  },
  {
   "cell_type": "code",
   "execution_count": 238,
   "metadata": {},
   "outputs": [
    {
     "data": {
      "image/png": "[encoded data removed]",
      "text/plain": [
       "<Figure size 720x432 with 1 Axes>"
      ]
     },
     "metadata": {
      "needs_background": "light"
     },
     "output_type": "display_data"
    }
   ],
   "source": [
    "#start to look at the distributions\n",
    "from matplotlib import figure\n",
    "import seaborn as sns\n",
    "import matplotlib.pyplot as plt\n",
    "%matplotlib inline\n",
    "\n",
    "two_bdrms = sf_2bdr_apts[sf_2bdr_apts['number bedrooms'] == 2]\n",
    "\n",
    "plt.figure(figsize=(10, 6))\n",
    "plt.hist(two_bdrms['price'], edgecolor='black');\n",
    "plt.xlabel(\"Price\")\n",
    "plt.ylabel('Count')\n",
    "plt.title(\"Distribution of Prices\");"
   ]
  },
  {
   "cell_type": "code",
   "execution_count": 284,
   "metadata": {},
   "outputs": [
    {
     "data": {
      "text/plain": [
       "neighborhood\n",
       " Lower Pac Hts       2935.000000\n",
       " Marina              2995.000000\n",
       " Bayview             3010.000000\n",
       " Soma                3248.200000\n",
       " Glen Park           3350.000000\n",
       " Richmond            3500.000000\n",
       " Ingleside           3500.000000\n",
       " Inner Sunset        3500.000000\n",
       " Sunset              3600.000000\n",
       " North Beach         3650.000000\n",
       " Castro              3658.333333\n",
       " Panhandle           3690.000000\n",
       " Mission District    3973.500000\n",
       " Potrero Hill        4056.285714\n",
       " Soma                4230.103448\n",
       " Noe Valley          4800.000000\n",
       " Pacific Heights     5334.375000\n",
       " Russian Hill        5388.200000\n",
       " Cole Valley         5750.000000\n",
       "Name: price, dtype: float64"
      ]
     },
     "execution_count": 284,
     "metadata": {},
     "output_type": "execute_result"
    }
   ],
   "source": [
    "#group by neighborhood\n",
    "two_bdrms.groupby('neighborhood')['price'].mean().sort_values()"
   ]
  },
  {
   "cell_type": "code",
   "execution_count": 285,
   "metadata": {},
   "outputs": [
    {
     "data": {
      "text/plain": [
       "3903.6314471523633"
      ]
     },
     "execution_count": 285,
     "metadata": {},
     "output_type": "execute_result"
    }
   ],
   "source": [
    "#group by neighborhood\n",
    "two_bdrms.groupby('neighborhood')['price'].mean().mean()"
   ]
  },
  {
   "cell_type": "markdown",
   "metadata": {},
   "source": [
    "> It looks like the Richmond District is right there at the average I currently pay and the average city wide is about $400 greater as well."
   ]
  },
  {
   "cell_type": "code",
   "execution_count": 286,
   "metadata": {},
   "outputs": [],
   "source": [
    "below_rent = sf_2bdr_apts[sf_2bdr_apts['price'] <= 3500]"
   ]
  },
  {
   "cell_type": "code",
   "execution_count": 289,
   "metadata": {},
   "outputs": [
    {
     "data": {
      "text/html": [
       "<div>\n",
       "<style scoped>\n",
       "    .dataframe tbody tr th:only-of-type {\n",
       "        vertical-align: middle;\n",
       "    }\n",
       "\n",
       "    .dataframe tbody tr th {\n",
       "        vertical-align: top;\n",
       "    }\n",
       "\n",
       "    .dataframe thead th {\n",
       "        text-align: right;\n",
       "    }\n",
       "</style>\n",
       "<table border=\"1\" class=\"dataframe\">\n",
       "  <thead>\n",
       "    <tr style=\"text-align: right;\">\n",
       "      <th></th>\n",
       "      <th>number bedrooms</th>\n",
       "      <th>price</th>\n",
       "    </tr>\n",
       "    <tr>\n",
       "      <th>neighborhood</th>\n",
       "      <th></th>\n",
       "      <th></th>\n",
       "    </tr>\n",
       "  </thead>\n",
       "  <tbody>\n",
       "    <tr>\n",
       "      <td>Potrero Hill</td>\n",
       "      <td>2.000</td>\n",
       "      <td>2459.000000</td>\n",
       "    </tr>\n",
       "    <tr>\n",
       "      <td>Lower Pac Hts</td>\n",
       "      <td>2.000</td>\n",
       "      <td>2935.000000</td>\n",
       "    </tr>\n",
       "    <tr>\n",
       "      <td>Soma</td>\n",
       "      <td>2.000</td>\n",
       "      <td>2947.333333</td>\n",
       "    </tr>\n",
       "    <tr>\n",
       "      <td>Marina</td>\n",
       "      <td>2.000</td>\n",
       "      <td>2995.000000</td>\n",
       "    </tr>\n",
       "    <tr>\n",
       "      <td>Bayview</td>\n",
       "      <td>2.000</td>\n",
       "      <td>3010.000000</td>\n",
       "    </tr>\n",
       "    <tr>\n",
       "      <td>Soma</td>\n",
       "      <td>2.125</td>\n",
       "      <td>3217.000000</td>\n",
       "    </tr>\n",
       "    <tr>\n",
       "      <td>Castro</td>\n",
       "      <td>2.000</td>\n",
       "      <td>3275.000000</td>\n",
       "    </tr>\n",
       "    <tr>\n",
       "      <td>Glen Park</td>\n",
       "      <td>2.000</td>\n",
       "      <td>3350.000000</td>\n",
       "    </tr>\n",
       "    <tr>\n",
       "      <td>Mission District</td>\n",
       "      <td>2.000</td>\n",
       "      <td>3350.000000</td>\n",
       "    </tr>\n",
       "    <tr>\n",
       "      <td>Ingleside</td>\n",
       "      <td>2.000</td>\n",
       "      <td>3500.000000</td>\n",
       "    </tr>\n",
       "    <tr>\n",
       "      <td>Inner Sunset</td>\n",
       "      <td>2.000</td>\n",
       "      <td>3500.000000</td>\n",
       "    </tr>\n",
       "    <tr>\n",
       "      <td>Richmond</td>\n",
       "      <td>2.000</td>\n",
       "      <td>3500.000000</td>\n",
       "    </tr>\n",
       "  </tbody>\n",
       "</table>\n",
       "</div>"
      ],
      "text/plain": [
       "                   number bedrooms        price\n",
       "neighborhood                                   \n",
       " Potrero Hill                2.000  2459.000000\n",
       " Lower Pac Hts               2.000  2935.000000\n",
       " Soma                        2.000  2947.333333\n",
       " Marina                      2.000  2995.000000\n",
       " Bayview                     2.000  3010.000000\n",
       " Soma                        2.125  3217.000000\n",
       " Castro                      2.000  3275.000000\n",
       " Glen Park                   2.000  3350.000000\n",
       " Mission District            2.000  3350.000000\n",
       " Ingleside                   2.000  3500.000000\n",
       " Inner Sunset                2.000  3500.000000\n",
       " Richmond                    2.000  3500.000000"
      ]
     },
     "execution_count": 289,
     "metadata": {},
     "output_type": "execute_result"
    }
   ],
   "source": [
    "#group by neighborhood\n",
    "below_rent.groupby('neighborhood')[['number bedrooms', 'price']].mean().sort_values(by='price')"
   ]
  },
  {
   "cell_type": "markdown",
   "metadata": {},
   "source": [
    "It looks like the only neighborhood with the potential for greater value for 3500 or less is SOMA. "
   ]
  },
  {
   "cell_type": "code",
   "execution_count": 254,
   "metadata": {},
   "outputs": [
    {
     "data": {
      "image/png": "[encoded data removed]",
      "text/plain": [
       "<Figure size 1080x720 with 1 Axes>"
      ]
     },
     "metadata": {
      "needs_background": "light"
     },
     "output_type": "display_data"
    }
   ],
   "source": [
    "plt.figure(figsize=(15,10))\n",
    "params = {'legend.fontsize': 'x-large',\n",
    "          'figure.figsize': (15, 5),\n",
    "         'axes.labelsize': 'x-large',\n",
    "         'axes.titlesize':'x-large',\n",
    "         'xtick.labelsize':'x-large',\n",
    "         'ytick.labelsize':'x-large'}\n",
    "pylab.rcParams.update(params)\n",
    "\n",
    "sns.boxplot(x='neighborhood', y='price', data=two_bdrms)\n",
    "plt.xlabel(\"Neighborhood\");\n",
    "plt.xticks(rotation=75)\n",
    "plt.ylabel(\"Price USD\");\n",
    "plt.title(\"Prices by Neighborhood - Boxplots\");"
   ]
  },
  {
   "cell_type": "code",
   "execution_count": 290,
   "metadata": {},
   "outputs": [
    {
     "data": {
      "image/png": "[encoded data removed]",
      "text/plain": [
       "<Figure size 1080x720 with 1 Axes>"
      ]
     },
     "metadata": {
      "needs_background": "light"
     },
     "output_type": "display_data"
    }
   ],
   "source": [
    "plt.figure(figsize=(15,10))\n",
    "params = {'legend.fontsize': 'x-large',\n",
    "          'figure.figsize': (15, 5),\n",
    "         'axes.labelsize': 'x-large',\n",
    "         'axes.titlesize':'x-large',\n",
    "         'xtick.labelsize':'x-large',\n",
    "         'ytick.labelsize':'x-large'}\n",
    "pylab.rcParams.update(params)\n",
    "\n",
    "sns.boxplot(x='neighborhood', y='number bedrooms', data=sf_2bdr_apts)\n",
    "plt.xlabel(\"Neighborhood\");\n",
    "plt.xticks(rotation=75)\n",
    "plt.ylabel(\"Price USD\");\n",
    "plt.title(\"Bedrooms by Neighborhood - Boxplots\");"
   ]
  },
  {
   "cell_type": "markdown",
   "metadata": {},
   "source": [
    "It appears that there is limited data right now on 2bedroom apartments. There is only one posting of a 2bed/2bath in my neighborhood, let's collect about a months worth of data and concat them for analysis later."
   ]
  },
  {
   "cell_type": "code",
   "execution_count": null,
   "metadata": {},
   "outputs": [],
   "source": []
  }
 ],
 "metadata": {
  "kernelspec": {
   "display_name": "Python 3",
   "language": "python",
   "name": "python3"
  },
  "language_info": {
   "codemirror_mode": {
    "name": "ipython",
    "version": 3
   },
   "file_extension": ".py",
   "mimetype": "text/x-python",
   "name": "python",
   "nbconvert_exporter": "python",
   "pygments_lexer": "ipython3",
   "version": "3.7.4"
  }
 },
 "nbformat": 4,
 "nbformat_minor": 2
}
